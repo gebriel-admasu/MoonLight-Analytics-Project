
{
 "cells": [
  {
   "cell_type": "code",
   "execution_count": null,
   "metadata": {},
   "outputs": [],
   "source": [
    "import pandas as pd\n",
    "\n",
    "\n",
    "datasets = {\n",
    "    \"Benin\": pd.read_csv(\"../data/benin-malanville.csv\"),\n",
    "    \"Sierra Leone\": pd.read_csv(\"../data/sierraleone-bumbuna.csv\"),\n",
    "    \"Togo\": pd.read_csv(\"../data/togo-dapaong_qc.csv\"),\n",
    "}\n",
    "\n",
    "for name, df in datasets.items():\n",
    "    print(f\"Dataset: {name}\")\n",
    "    print(df.info())\n",
    "    print(df.describe())\n"
   ]
  },
  {
   "cell_type": "code",
   "execution_count": null,
   "metadata": {},
   "outputs": [],
   "source": [
    "for name, df in datasets.items():\n",
    "    print(f\"Summary for {name}:\")\n",
    "    print(df.describe())\n"
   ]
  },
  {
   "cell_type": "code",
   "execution_count": null,
   "metadata": {},
   "outputs": [],
   "source": [
    "for name, df in datasets.items():\n",
    "    print(f\"Missing Values in {name}:\")\n",
    "    print(df.isnull().sum())\n"
   ]
  },
  {
   "cell_type": "code",
   "execution_count": null,
   "metadata": {},
   "outputs": [],
   "source": [
    "for name, df in datasets.items():\n",
    "    invalid_ghi = df[df[\"GHI\"] < 0]\n",
    "    print(f\"Invalid GHI values in {name}:\\n\", invalid_ghi)\n"
   ]
  },
  {
   "cell_type": "code",
   "execution_count": null,
   "metadata": {},
   "outputs": [],
   "source": [
    "import seaborn as sns\n",
    "import matplotlib.pyplot as plt\n",
    "\n",
    "for name, df in datasets.items():\n",
    "    sns.boxplot(data=df[[\"GHI\", \"DNI\", \"DHI\"]])\n",
    "    plt.title(f\"Outliers in {name}\")\n",
    "    plt.show()\n"
   ]
  },
  {
   "cell_type": "code",
   "execution_count": null,
   "metadata": {},
   "outputs": [],
   "source": [
    "for name, df in datasets.items():\n",
    "    df[\"Timestamp\"] = pd.to_datetime(df[\"Timestamp\"])\n",
    "    df.set_index(\"Timestamp\", inplace=True)\n",
    "    df[[\"GHI\", \"DNI\", \"DHI\"]].plot(title=f\"Time Series for {name}\")\n",
    "    plt.show()\n"
   ]
  },
  {
   "cell_type": "code",
   "execution_count": null,
   "metadata": {},
   "outputs": [],
   "source": [
    "import pandas as pd\n",
    "import seaborn as sns\n",
    "import matplotlib.pyplot as plt\n",
    "import numpy as np\n",
    "\n",
    "# Example dataset loading (replace with actual dataset initialization)\n",
    "datasets = {\n",
    "    \"Benin\": pd.read_csv(\"../data/benin-malanville.csv\"),\n",
    "    \"Sierra Leone\": pd.read_csv(\"../data/sierraleone-bumbuna.csv\"),\n",
    "    \"Togo\": pd.read_csv(\"../data/togo-dapaong_qc.csv\"),\n",
    "}\n",
    "\n",
    "# Loop through datasets to generate correlation heatmaps\n",
    "for name, df in datasets.items():\n",
    "    print(f\"Processing dataset: {name}\")\n",
    "\n",
    "    # Debug: Display dataset information\n",
    "    print(\"Dataset info:\")\n",
    "    print(df.info())  # Print data types and null counts\n",
    "    print(\"First few rows of the dataset:\")\n",
    "    print(df.head())  # Display the first few rows of the dataset\n",
    "\n",
    "    # Select only numeric columns\n",
    "    numeric_df = df.select_dtypes(include=[\"float\", \"int\"])\n",
    "\n",
    "    # Check if there are numeric columns\n",
    "    if numeric_df.empty:\n",
    "        print(f\"No numeric columns available for correlation in {name}.\")\n",
    "        continue  # Skip this dataset if no numeric columns exist\n",
    "\n",
    "    # Calculate the correlation matrix\n",
    "    correlation = numeric_df.corr()\n",
    "\n",
    "    # Create a mask for the upper triangle of the correlation matrix\n",
    "    mask = np.triu(np.ones_like(correlation, dtype=bool))\n",
    "\n",
    "    # Plot the heatmap\n",
    "    plt.figure(figsize=(10, 8))  # Set the figure size\n",
    "    sns.heatmap(\n",
    "        correlation,\n",
    "        annot=True,  # Annotate the cells with correlation values\n",
    "        cmap=\"coolwarm\",  # Use a cool-to-warm color map\n",
    "        fmt=\".2f\",  # Format numbers to 2 decimal places\n",
    "        annot_kws={\"size\": 10},  # Font size for annotations\n",
    "        mask=mask,  # Apply the mask\n",
    "        linewidths=0.5,  # Line width between cells\n",
    "        cbar_kws={\"shrink\": 0.8},  # Shrink the color bar\n",
    "    )\n",
    "    plt.title(f\"Correlation Heatmap for {name}\")  # Title for the heatmap\n",
    "    plt.show()  # Display the plot\n"
   ]
  },
  {
   "cell_type": "code",
   "execution_count": null,
   "metadata": {},
   "outputs": [],
   "source": [
    "for name, df in datasets.items():\n",
    "    sns.scatterplot(x=df[\"WS\"], y=df[\"WD\"], hue=df[\"GHI\"])\n",
    "    plt.title(f\"Wind Speed and Direction for {name}\")\n",
    "    plt.show()\n"
   ]
  },
  {
   "cell_type": "code",
   "execution_count": null,
   "metadata": {},
   "outputs": [],
   "source": [
    "#Investigate RH's impact:\n",
    "for name, df in datasets.items():\n",
    "    sns.scatterplot(x=df[\"RH\"], y=df[\"GHI\"])\n",
    "    plt.title(f\"Relative Humidity vs. GHI for {name}\")\n",
    "    plt.show()\n"
   ]
  },
  {
   "cell_type": "code",
   "execution_count": null,
   "metadata": {},
   "outputs": [],
   "source": [
    "import matplotlib.pyplot as plt\n",
    "\n",
    "bins = 20  \n",
    "for name, df in datasets.items():\n",
    "    plt.figure(figsize=(8, 6))  \n",
    "    df[\"GHI\"].hist(bins=bins, color=\"skyblue\", edgecolor=\"black\", alpha=0.7)\n",
    "    \n",
    "    plt.title(f\"Histogram of GHI for {name}\", fontsize=14)\n",
    "    plt.xlabel(\"GHI (Global Horizontal Irradiance)\", fontsize=12)\n",
    "    plt.ylabel(\"Frequency\", fontsize=12)\n",
    "    plt.grid(axis=\"y\", linestyle=\"--\", alpha=0.7)  \n",
    "    \n",
    "    plt.show()\n"
   ]
  },
  {
   "cell_type": "code",
   "execution_count": null,
   "metadata": {},
   "outputs": [],
   "source": [
    "#Z-Score Analysis\n",
    "from scipy.stats import zscore\n",
    "\n",
    "for name, df in datasets.items():\n",
    "    df[\"z_ghi\"] = zscore(df[\"GHI\"].dropna())\n",
    "    anomalies = df[df[\"z_ghi\"] > 3]\n",
    "    print(f\"Anomalies in {name}:\\n\", anomalies)\n"
   ]
  },
  {
   "cell_type": "code",
   "execution_count": null,
   "metadata": {},
   "outputs": [],
   "source": [
    "def clean_data(df):\n",
    "    df.fillna(method=\"ffill\", inplace=True)\n",
    "    df = df[df[\"GHI\"] >= 0]  \n",
    "    return df\n",
    "\n",
    "cleaned_data = {name: clean_data(df) for name, df in datasets.items()}\n",
    "\n"
   ]
  },
  {
   "cell_type": "code",
   "execution_count": null,
   "metadata": {},
   "outputs": [],
   "source": [
    "# save cleaned data set\n",
    "for name, df in cleaned_data.items():\n",
    "    df.to_csv(f\"../results/cleaned_{name.lower().replace(' ', '_')}.csv\", index=False)\n"
   ]
  },
  {
   "cell_type": "code",
   "execution_count": null,
   "metadata": {},
   "outputs": [],
   "source": []
  }
 ],
 "metadata": {
  "kernelspec": {
   "display_name": "venv",
   "language": "python",
   "name": "python3"
  },
  "language_info": {
   "codemirror_mode": {
    "name": "ipython",
    "version": 3
   },
   "file_extension": ".py",
   "mimetype": "text/x-python",
   "name": "python",
   "nbconvert_exporter": "python",
   "pygments_lexer": "ipython3",
   "version": "3.12.7"
  }
 },
 "nbformat": 4,
 "nbformat_minor": 2
}

